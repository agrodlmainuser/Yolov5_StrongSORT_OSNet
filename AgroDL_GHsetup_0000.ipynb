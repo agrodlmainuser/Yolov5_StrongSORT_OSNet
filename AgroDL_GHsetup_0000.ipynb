{
  "nbformat": 4,
  "nbformat_minor": 0,
  "metadata": {
    "colab": {
      "name": "AgroDL_GHsetup_0000.ipynb",
      "private_outputs": true,
      "provenance": [],
      "collapsed_sections": [],
      "mount_file_id": "1ZbnZA7yOczXw79bnECP95cu9QMFer9dY",
      "authorship_tag": "ABX9TyPhvawtPOq4UdUNOevKf6hg",
      "include_colab_link": true
    },
    "kernelspec": {
      "name": "python3",
      "display_name": "Python 3"
    },
    "language_info": {
      "name": "python"
    }
  },
  "cells": [
    {
      "cell_type": "markdown",
      "metadata": {
        "id": "view-in-github",
        "colab_type": "text"
      },
      "source": [
        "<a href=\"https://colab.research.google.com/github/agrodlmainuser/Yolov5_StrongSORT_OSNet/blob/master/AgroDL_GHsetup_0000.ipynb\" target=\"_parent\"><img src=\"https://colab.research.google.com/assets/colab-badge.svg\" alt=\"Open In Colab\"/></a>"
      ]
    },
    {
      "cell_type": "code",
      "source": [
        "%cd /content/drive/MyDrive/Colab Notebooks"
      ],
      "metadata": {
        "id": "5whzvfmFUWAG"
      },
      "execution_count": null,
      "outputs": []
    },
    {
      "cell_type": "code",
      "source": [
        "import PIL\n",
        "from ADL_classes import ADL_EXIF\n",
        "import os\n",
        "import pandas as pd\n",
        "import re\n"
      ],
      "metadata": {
        "id": "9W4toN45Rxwa"
      },
      "execution_count": null,
      "outputs": []
    },
    {
      "cell_type": "code",
      "source": [
        "#modules\n",
        "import imaplib\n",
        "import email\n",
        "\n",
        "#credentials\n",
        "username =\"agromltlv@gmail.com\"\n",
        "#generated app password\n",
        "app_password= \"qlmgpjmmulrbsmco\"\n",
        "# https://www.systoolsgroup.com/imap/\n",
        "gmail_host= 'imap.gmail.com'\n",
        "#set connection\n",
        "mail = imaplib.IMAP4_SSL(gmail_host)\n",
        "#login\n",
        "mail.login(username, app_password)\n",
        "#select inbox\n",
        "mail.select(\"INBOX\")\n",
        "#select specific mails\n",
        "_, selected_mails = mail.search(None, '(FROM \"hagaist120@gmail.com\")')\n",
        "#total number of mails from specific user\n",
        "print(\"Total Messages from hagaist120@gmail.com:\" , len(selected_mails[0].split()))\n",
        "\n",
        "\n",
        "for num in selected_mails[0].split():\n",
        "    _, data = mail.fetch(num , '(RFC822)')\n",
        "    _, bytes_data = data[0]\n",
        "\n",
        "    #convert the byte data to message\n",
        "    email_message = email.message_from_bytes(bytes_data)\n",
        "    print(\"\\n===========================================\")\n",
        "\n",
        "    #access data\n",
        "    print(\"Subject: \",email_message[\"subject\"])\n",
        "    print(\"To:\", email_message[\"to\"])\n",
        "    print(\"From: \",email_message[\"from\"])\n",
        "    print(\"Date: \",email_message[\"date\"])\n",
        "    for part in email_message.walk():\n",
        "        if part.get_content_type()==\"text/plain\" or part.get_content_type()==\"text/html\":\n",
        "            message = part.get_payload(decode=True)\n",
        "            print(\"Message: \\n\", message.decode())\n",
        "            print(\"==========================================\\n\")\n",
        "            break"
      ],
      "metadata": {
        "id": "-S6BJ9Wc5R-w"
      },
      "execution_count": null,
      "outputs": []
    },
    {
      "cell_type": "code",
      "source": [
        "# dictionary creation to start ordering the relevant data\n",
        "list1 = email_message[\"subject\"].split()\n",
        "dict1 = {\"grower_email\": [list1[4]], \"grower_unique_name\": [list1[5]]}"
      ],
      "metadata": {
        "id": "Kv7u-EFqzcUh"
      },
      "execution_count": null,
      "outputs": []
    },
    {
      "cell_type": "code",
      "source": [
        "email_str = message.decode()"
      ],
      "metadata": {
        "id": "yiHHsO3vGbrL"
      },
      "execution_count": null,
      "outputs": []
    },
    {
      "cell_type": "code",
      "source": [
        "# extracting fields of interest from the str email\n",
        "plant_gh = email_str.split(\"Plant:\")[1].split(\"\\r\")[0]\n",
        "grower_name = email_str.split(\"Name:\")[1].split(\"\\r\")[0]\n",
        "grower_address = email_str.split(\"Address:\")[1].split(\"\\r\")[0]\n",
        "grower_tel = email_str.split(\"Tel:\")[1].split(\"\\r\")[0]\n",
        "# adding the fields into the dictionary\n",
        "dict1[\"plant_gh\"] = [plant_gh]\n",
        "dict1[\"grower_name\"] = [grower_name]\n",
        "dict1[\"grower_address\"] = [grower_address]\n",
        "dict1[\"grower_tel\"] = [grower_tel]\n",
        "# creating a pd df\n",
        "df1 = pd.DataFrame.from_dict(dict1)"
      ],
      "metadata": {
        "id": "Es8mndj7dE53"
      },
      "execution_count": null,
      "outputs": []
    },
    {
      "cell_type": "code",
      "source": [
        "df1"
      ],
      "metadata": {
        "id": "abZt12pcdNbi"
      },
      "execution_count": null,
      "outputs": []
    },
    {
      "cell_type": "code",
      "execution_count": null,
      "metadata": {
        "id": "fsH_10XSDXw1"
      },
      "outputs": [],
      "source": [
        "path = \"/content/drive/MyDrive/AgroDL/AgroDL_Data/Input/Image_countings/Tomatoes/AsiTom__gmail.com/gh_setup\""
      ]
    },
    {
      "cell_type": "code",
      "source": [
        "images_cor = []\n",
        "for image in os.listdir(path):\n",
        "  print(image)\n",
        "  exif_obj = ADL_EXIF(f\"{path}/{image}\")\n",
        "  image_cor = exif_obj.read_exif()\n",
        "  images_cor.append(image_cor)\n"
      ],
      "metadata": {
        "id": "RurfOcE8K2vX"
      },
      "execution_count": null,
      "outputs": []
    },
    {
      "cell_type": "code",
      "source": [
        "print(images_cor)"
      ],
      "metadata": {
        "id": "dwHcQoIPWwdW"
      },
      "execution_count": null,
      "outputs": []
    },
    {
      "cell_type": "code",
      "source": [
        "df1[\"gps1_N\"] = images_cor[0][0]\n",
        "df1[\"gps1_E\"] = images_cor[0][1]\n",
        "df1[\"gps2_N\"] = images_cor[1][0]\n",
        "df1[\"gps2_E\"] = images_cor[1][1]\n",
        "df1[\"gps3_N\"] = images_cor[2][0]\n",
        "df1[\"gps3_E\"] = images_cor[2][1]"
      ],
      "metadata": {
        "id": "ryqa-8N2nQ0Z"
      },
      "execution_count": null,
      "outputs": []
    },
    {
      "cell_type": "code",
      "source": [
        "df1\n"
      ],
      "metadata": {
        "id": "-UqtfTdrqI5d"
      },
      "execution_count": null,
      "outputs": []
    },
    {
      "cell_type": "markdown",
      "source": [
        "**GH Mapping**"
      ],
      "metadata": {
        "id": "_rEigDaZfC_t"
      }
    },
    {
      "cell_type": "code",
      "source": [
        "path2 = \"/content/drive/MyDrive/AgroDL/AgroDL_Data/Input/Image_countings/Tomatoes/AsiTom__gmail.com\"\n",
        "images2_cor = []"
      ],
      "metadata": {
        "id": "9lNEls-CfJXX"
      },
      "execution_count": null,
      "outputs": []
    },
    {
      "cell_type": "code",
      "source": [
        "for file in os.listdir(path2):\n",
        "  if not file.startswith(\"IMG\"):\n",
        "    continue\n",
        "  else:\n",
        "    exif_obj = ADL_EXIF(f\"{path2}/{file}\")\n",
        "    image_cor = exif_obj.read_exif()\n",
        "    images2_cor.append(image_cor)"
      ],
      "metadata": {
        "id": "O4iviayefU1P"
      },
      "execution_count": null,
      "outputs": []
    },
    {
      "cell_type": "code",
      "source": [
        "images2_cor"
      ],
      "metadata": {
        "id": "hmTvUGttitQq"
      },
      "execution_count": null,
      "outputs": []
    },
    {
      "cell_type": "code",
      "source": [
        "images2_cor.sort(key = lambda x: float(x[1]))"
      ],
      "metadata": {
        "id": "2LYlSMNwgJiI"
      },
      "execution_count": null,
      "outputs": []
    },
    {
      "cell_type": "code",
      "source": [
        "ff = -1\n",
        "for checker in images2_cor:\n",
        "  if checker[1] < ff:\n",
        "    print(checker[1])\n",
        "    print(ff)\n",
        "  ff = checker[1]"
      ],
      "metadata": {
        "id": "NLUre9g0hYoF"
      },
      "execution_count": null,
      "outputs": []
    }
  ]
}